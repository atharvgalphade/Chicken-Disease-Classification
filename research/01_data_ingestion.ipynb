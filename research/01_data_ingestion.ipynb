{
 "cells": [
  {
   "cell_type": "code",
   "execution_count": 1,
   "id": "de9c0fc8",
   "metadata": {},
   "outputs": [],
   "source": [
    "import os"
   ]
  },
  {
   "cell_type": "code",
   "execution_count": 2,
   "id": "a5916d80",
   "metadata": {},
   "outputs": [],
   "source": [
    "os.chdir(\"C:/Users/athar/Projects/Deep Learning/Chicken-Disease-Classification\")"
   ]
  },
  {
   "cell_type": "code",
   "execution_count": 3,
   "id": "20344d3d",
   "metadata": {},
   "outputs": [],
   "source": [
    "from dataclasses import dataclass\n",
    "from pathlib import Path\n",
    "\n",
    "@dataclass(frozen=True) \n",
    "class DataIngestionConfig:\n",
    "    root_dir: Path\n",
    "    source_URL: str\n",
    "    local_data_file: Path\n",
    "    unzip_dir: Path"
   ]
  },
  {
   "cell_type": "code",
   "execution_count": 4,
   "id": "c732587a",
   "metadata": {},
   "outputs": [],
   "source": [
    "from CNNClassifier.constants import *\n",
    "from CNNClassifier.utils.common import read_yaml,create_directories"
   ]
  },
  {
   "cell_type": "code",
   "execution_count": 5,
   "id": "552256ba",
   "metadata": {},
   "outputs": [],
   "source": [
    "class ConfigurationManager:\n",
    "    #Constructor with two optional arguments:\n",
    "    #config_filepath: Path to your config.yaml.\n",
    "    #params_filepath: Path to your params.yaml.\n",
    "    def __init__(\n",
    "        self,\n",
    "        config_filepath= CONFIG_FILE_PATH,\n",
    "        params_filepath= PARAMS_FILE_PATH):\n",
    "        #Reads the config.yaml file and stores it in self.config as a Python dictionary\n",
    "        self.config= read_yaml(config_filepath)\n",
    "        #Reads the params.yaml file and stores it in self.params as a dictionary.\n",
    "        self.params= read_yaml(params_filepath)\n",
    "        #Creates the base directory (e.g., artifacts/) specified in config.yaml under the key artifacts_root.\n",
    "        create_directories([self.config.artifacts_root], verbose=True)\n",
    "        \n",
    "    def get_data_ingestion_config(self)-> DataIngestionConfig:\n",
    "        config=self.config.data_ingestion\n",
    "        \n",
    "        create_directories([config.root_dir], verbose=True)\n",
    "        \n",
    "        data_ingestion_config= DataIngestionConfig(\n",
    "            root_dir= config.root_dir,\n",
    "            source_URL=config.source_URL,\n",
    "            local_data_file=config.local_data_file,\n",
    "            unzip_dir=config.unzip_dir\n",
    "        )\n",
    "        \n",
    "        return data_ingestion_config"
   ]
  },
  {
   "cell_type": "code",
   "execution_count": 6,
   "id": "5a4832d8",
   "metadata": {},
   "outputs": [],
   "source": [
    "import os\n",
    "import urllib.request as request\n",
    "import zipfile\n",
    "from CNNClassifier import logger\n",
    "#from CNNClassifier.utils.common import get_size"
   ]
  },
  {
   "cell_type": "code",
   "execution_count": 9,
   "id": "956092c8",
   "metadata": {},
   "outputs": [],
   "source": [
    "class dataIngestion:\n",
    "    def __init__(self, config: DataIngestionConfig):\n",
    "        self.config=config\n",
    "    \n",
    "    def download_file(self):\n",
    "        if not os.path.exists(self.config.local_data_file):\n",
    "            filename, headers= request.urlretrieve(\n",
    "                url= self.config.source_URL,\n",
    "                filename= self.config.local_data_file\n",
    "            )\n",
    "            logger.info(f\"{filename} downloaded with following info: \\n{headers}\")\n",
    "        else:\n",
    "            logger.info(f\"file already exsits on path: {(self.config.local_data_file)}\")\n",
    "            \n",
    "            \n",
    "    def extract_zip_file(self):\n",
    "        unzip_path=self.config.unzip_dir\n",
    "        os.makedirs(unzip_path, exist_ok=True)\n",
    "        with zipfile.ZipFile(self.config.local_data_file, 'r') as zip_ref:\n",
    "            zip_ref.extractall(unzip_path)"
   ]
  },
  {
   "cell_type": "code",
   "execution_count": 10,
   "id": "8047460a",
   "metadata": {},
   "outputs": [
    {
     "name": "stdout",
     "output_type": "stream",
     "text": [
      "[2025-05-12 20:33:22,182: INFO: common: yaml file: config\\config.yaml loaded successfully]\n",
      "[2025-05-12 20:33:22,183: INFO: common: yaml file: params.yaml loaded successfully]\n",
      "[2025-05-12 20:33:22,185: INFO: common: Created directory at: artifacts]\n",
      "[2025-05-12 20:33:22,187: INFO: common: Created directory at: artifacts/data_ingestion]\n",
      "[2025-05-12 20:33:24,534: INFO: 1916319891: artifacts/data_ingestion/data.zip downloaded with following info: \n",
      "Connection: close\n",
      "Content-Length: 11616915\n",
      "Cache-Control: max-age=300\n",
      "Content-Security-Policy: default-src 'none'; style-src 'unsafe-inline'; sandbox\n",
      "Content-Type: application/zip\n",
      "ETag: \"adf745abc03891fe493c3be264ec012691fe3fa21d861f35a27edbe6d86a76b1\"\n",
      "Strict-Transport-Security: max-age=31536000\n",
      "X-Content-Type-Options: nosniff\n",
      "X-Frame-Options: deny\n",
      "X-XSS-Protection: 1; mode=block\n",
      "X-GitHub-Request-Id: 9D27:1FBF5D:1F1F0C:257F89:68229355\n",
      "Accept-Ranges: bytes\n",
      "Date: Tue, 13 May 2025 00:33:26 GMT\n",
      "Via: 1.1 varnish\n",
      "X-Served-By: cache-mia-kmia1760076-MIA\n",
      "X-Cache: MISS\n",
      "X-Cache-Hits: 0\n",
      "X-Timer: S1747096405.416700,VS0,VE740\n",
      "Vary: Authorization,Accept-Encoding,Origin\n",
      "Access-Control-Allow-Origin: *\n",
      "Cross-Origin-Resource-Policy: cross-origin\n",
      "X-Fastly-Request-ID: c039f838b513008b18b6575130c66673d0778713\n",
      "Expires: Tue, 13 May 2025 00:38:26 GMT\n",
      "Source-Age: 0\n",
      "\n",
      "]\n"
     ]
    }
   ],
   "source": [
    "try:\n",
    "    di_config= ConfigurationManager() # create object of class\n",
    "    data_ingestion_config= di_config.get_data_ingestion_config() #call function and store in other object\n",
    "    data_ingestion=dataIngestion(config=data_ingestion_config) #create object for class\n",
    "    data_ingestion.download_file() # call function\n",
    "    data_ingestion.extract_zip_file() #call function\n",
    "except Exception as e:\n",
    "    raise e"
   ]
  },
  {
   "cell_type": "code",
   "execution_count": null,
   "id": "b8b9d8c8",
   "metadata": {},
   "outputs": [],
   "source": []
  }
 ],
 "metadata": {
  "kernelspec": {
   "display_name": "venv",
   "language": "python",
   "name": "python3"
  },
  "language_info": {
   "codemirror_mode": {
    "name": "ipython",
    "version": 3
   },
   "file_extension": ".py",
   "mimetype": "text/x-python",
   "name": "python",
   "nbconvert_exporter": "python",
   "pygments_lexer": "ipython3",
   "version": "3.9.11"
  }
 },
 "nbformat": 4,
 "nbformat_minor": 5
}
